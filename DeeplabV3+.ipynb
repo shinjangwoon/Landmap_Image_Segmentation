{
  "cells": [
    {
      "cell_type": "markdown",
      "metadata": {
        "id": "bd75d00d-7b68-45ee-b8a2-89aa88ce6607"
      },
      "source": [
        "# [모의 경진대회] 토지피복지도 객체 분할\n",
        "\n",
        "* Image Segmentation\n"
      ],
      "id": "bd75d00d-7b68-45ee-b8a2-89aa88ce6607"
    },
    {
      "cell_type": "markdown",
      "metadata": {
        "id": "895492f7-0ddc-437b-939c-da0eabe42b6a"
      },
      "source": [
        "## 데이터 디렉토리 구조"
      ],
      "id": "895492f7-0ddc-437b-939c-da0eabe42b6a"
    },
    {
      "cell_type": "code",
      "source": [
        "# DATA/\n",
        "#   \\_train/\n",
        "#        \\_traindf.csv  \n",
        "#        \\_images/\n",
        "#            \\_xxx.png\n",
        "#            \\_yyy.png\n",
        "#            \\_zzz.png\n",
        "#            \\_...  \n",
        "#        \\_masks/\n",
        "#            \\_xxx.png\n",
        "#            \\_yyy.png\n",
        "#            \\_zzz.png\n",
        "#            \\_...\n",
        "#   \\_test/\n",
        "#        \\_sample_submission.csv\n",
        "#        \\_testdf.csv\n",
        "#        \\_images/\n",
        "#            \\_aaa.png  \n",
        "#            \\_bbb.png  \n",
        "#            \\_...  "
      ],
      "metadata": {
        "id": "75b185d7-6875-48bd-bae9-279a23d7ddb4"
      },
      "id": "75b185d7-6875-48bd-bae9-279a23d7ddb4",
      "execution_count": null,
      "outputs": []
    },
    {
      "cell_type": "code",
      "execution_count": 1,
      "metadata": {
        "id": "B_-EdnEy-s1H",
        "colab": {
          "base_uri": "https://localhost:8080/"
        },
        "outputId": "77b60cef-df12-4c62-83f7-260ad334c302"
      },
      "outputs": [
        {
          "output_type": "stream",
          "name": "stdout",
          "text": [
            "Mounted at /content/drive\n"
          ]
        }
      ],
      "source": [
        "from google.colab import drive\n",
        "drive.mount('/content/drive')"
      ],
      "id": "B_-EdnEy-s1H"
    },
    {
      "cell_type": "code",
      "execution_count": null,
      "metadata": {
        "id": "zNGKR0i4Fa43"
      },
      "outputs": [],
      "source": [
        "# !unzip '/content/drive/MyDrive/Colab Notebooks/YearDream-Kaggle/2nd/DATA/train.zip' -d '/content/drive/MyDrive/Colab Notebooks/YearDream-Kaggle/2nd/DATA/'"
      ],
      "id": "zNGKR0i4Fa43"
    },
    {
      "cell_type": "code",
      "source": [
        "# !unzip '/content/drive/MyDrive/Colab Notebooks/YearDream-Kaggle/2nd/DATA/test.zip' -d '/content/drive/MyDrive/Colab Notebooks/YearDream-Kaggle/2nd/DATA/'"
      ],
      "metadata": {
        "id": "mgXDahCPv1Sm"
      },
      "id": "mgXDahCPv1Sm",
      "execution_count": null,
      "outputs": []
    },
    {
      "cell_type": "markdown",
      "metadata": {
        "id": "a5f16bf1-a097-47b6-8a19-89155f7d6c09"
      },
      "source": [
        "## 필수 라이브러리 불러오기"
      ],
      "id": "a5f16bf1-a097-47b6-8a19-89155f7d6c09"
    },
    {
      "cell_type": "code",
      "execution_count": 2,
      "metadata": {
        "id": "4NScJz6c-V5P",
        "colab": {
          "base_uri": "https://localhost:8080/"
        },
        "outputId": "5c5c8e33-b310-44ce-96cd-c94598cdb467"
      },
      "outputs": [
        {
          "output_type": "stream",
          "name": "stdout",
          "text": [
            "Looking in indexes: https://pypi.org/simple, https://us-python.pkg.dev/colab-wheels/public/simple/\n",
            "Collecting segmentation_models_pytorch\n",
            "  Downloading segmentation_models_pytorch-0.3.0-py3-none-any.whl (97 kB)\n",
            "\u001b[K     |████████████████████████████████| 97 kB 4.1 MB/s \n",
            "\u001b[?25hCollecting timm==0.4.12\n",
            "  Downloading timm-0.4.12-py3-none-any.whl (376 kB)\n",
            "\u001b[K     |████████████████████████████████| 376 kB 10.1 MB/s \n",
            "\u001b[?25hRequirement already satisfied: torchvision>=0.5.0 in /usr/local/lib/python3.7/dist-packages (from segmentation_models_pytorch) (0.13.1+cu113)\n",
            "Collecting efficientnet-pytorch==0.7.1\n",
            "  Downloading efficientnet_pytorch-0.7.1.tar.gz (21 kB)\n",
            "Collecting pretrainedmodels==0.7.4\n",
            "  Downloading pretrainedmodels-0.7.4.tar.gz (58 kB)\n",
            "\u001b[K     |████████████████████████████████| 58 kB 7.8 MB/s \n",
            "\u001b[?25hRequirement already satisfied: tqdm in /usr/local/lib/python3.7/dist-packages (from segmentation_models_pytorch) (4.64.1)\n",
            "Requirement already satisfied: pillow in /usr/local/lib/python3.7/dist-packages (from segmentation_models_pytorch) (7.1.2)\n",
            "Requirement already satisfied: torch in /usr/local/lib/python3.7/dist-packages (from efficientnet-pytorch==0.7.1->segmentation_models_pytorch) (1.12.1+cu113)\n",
            "Collecting munch\n",
            "  Downloading munch-2.5.0-py2.py3-none-any.whl (10 kB)\n",
            "Requirement already satisfied: typing-extensions in /usr/local/lib/python3.7/dist-packages (from torch->efficientnet-pytorch==0.7.1->segmentation_models_pytorch) (4.1.1)\n",
            "Requirement already satisfied: numpy in /usr/local/lib/python3.7/dist-packages (from torchvision>=0.5.0->segmentation_models_pytorch) (1.21.6)\n",
            "Requirement already satisfied: requests in /usr/local/lib/python3.7/dist-packages (from torchvision>=0.5.0->segmentation_models_pytorch) (2.23.0)\n",
            "Requirement already satisfied: six in /usr/local/lib/python3.7/dist-packages (from munch->pretrainedmodels==0.7.4->segmentation_models_pytorch) (1.15.0)\n",
            "Requirement already satisfied: idna<3,>=2.5 in /usr/local/lib/python3.7/dist-packages (from requests->torchvision>=0.5.0->segmentation_models_pytorch) (2.10)\n",
            "Requirement already satisfied: urllib3!=1.25.0,!=1.25.1,<1.26,>=1.21.1 in /usr/local/lib/python3.7/dist-packages (from requests->torchvision>=0.5.0->segmentation_models_pytorch) (1.24.3)\n",
            "Requirement already satisfied: certifi>=2017.4.17 in /usr/local/lib/python3.7/dist-packages (from requests->torchvision>=0.5.0->segmentation_models_pytorch) (2022.9.24)\n",
            "Requirement already satisfied: chardet<4,>=3.0.2 in /usr/local/lib/python3.7/dist-packages (from requests->torchvision>=0.5.0->segmentation_models_pytorch) (3.0.4)\n",
            "Building wheels for collected packages: efficientnet-pytorch, pretrainedmodels\n",
            "  Building wheel for efficientnet-pytorch (setup.py) ... \u001b[?25l\u001b[?25hdone\n",
            "  Created wheel for efficientnet-pytorch: filename=efficientnet_pytorch-0.7.1-py3-none-any.whl size=16446 sha256=3571a4aee4ffc22afbf12a48a40facd75bc1132346cb0e41a32be77a2efe0d2a\n",
            "  Stored in directory: /root/.cache/pip/wheels/0e/cc/b2/49e74588263573ff778da58cc99b9c6349b496636a7e165be6\n",
            "  Building wheel for pretrainedmodels (setup.py) ... \u001b[?25l\u001b[?25hdone\n",
            "  Created wheel for pretrainedmodels: filename=pretrainedmodels-0.7.4-py3-none-any.whl size=60966 sha256=6c8ce38df54eb69418ded97d86f620654726b84bc238d6dc1f4c3e1c568443b1\n",
            "  Stored in directory: /root/.cache/pip/wheels/ed/27/e8/9543d42de2740d3544db96aefef63bda3f2c1761b3334f4873\n",
            "Successfully built efficientnet-pytorch pretrainedmodels\n",
            "Installing collected packages: munch, timm, pretrainedmodels, efficientnet-pytorch, segmentation-models-pytorch\n",
            "Successfully installed efficientnet-pytorch-0.7.1 munch-2.5.0 pretrainedmodels-0.7.4 segmentation-models-pytorch-0.3.0 timm-0.4.12\n"
          ]
        }
      ],
      "source": [
        "!pip install segmentation_models_pytorch"
      ],
      "id": "4NScJz6c-V5P"
    },
    {
      "cell_type": "code",
      "execution_count": 3,
      "metadata": {
        "id": "609f5ad9-9f65-4fa6-b987-8fcad156d417"
      },
      "outputs": [],
      "source": [
        "import os\n",
        "import numpy as np\n",
        "import pandas as pd\n",
        "import random\n",
        "\n",
        "import torch\n",
        "import torch.nn as nn\n",
        "import torch.optim as optim\n",
        "from torch.utils.data import Dataset, DataLoader\n",
        "\n",
        "from tqdm import tqdm\n",
        "from sklearn.model_selection import train_test_split\n",
        "\n",
        "import segmentation_models_pytorch as smp\n",
        "from segmentation_models_pytorch.losses import DiceLoss\n",
        "\n",
        "import albumentations as A\n",
        "import cv2\n",
        "from datetime import datetime, timezone, timedelta"
      ],
      "id": "609f5ad9-9f65-4fa6-b987-8fcad156d417"
    },
    {
      "cell_type": "markdown",
      "metadata": {
        "id": "3b1220bd-5501-400d-952e-8c185a3d004b"
      },
      "source": [
        "## 하이퍼파라미터 및 기타 인자 설정"
      ],
      "id": "3b1220bd-5501-400d-952e-8c185a3d004b"
    },
    {
      "cell_type": "markdown",
      "metadata": {
        "id": "ae2fab69-2736-4486-9754-14ebb2f20018"
      },
      "source": [
        "#### 데이터 경로"
      ],
      "id": "ae2fab69-2736-4486-9754-14ebb2f20018"
    },
    {
      "cell_type": "code",
      "execution_count": 4,
      "metadata": {
        "id": "eaf86952-1acf-4b07-87e9-1ce6621e74c0"
      },
      "outputs": [],
      "source": [
        "# 프로젝트 경로\n",
        "PROJECT_DIR = '/content/drive/MyDrive/Colab Notebooks/YearDream-Kaggle/2nd'\n",
        "os.chdir(PROJECT_DIR)\n",
        "\n",
        "#데이터 경로\n",
        "DATA_DIR = os.path.join(PROJECT_DIR, 'DATA') # 모든 데이터가 들어있는 폴더 경로\n",
        "TRAIN_DIR = os.path.join(DATA_DIR, 'train') # 학습 데이터가 들어있는 폴더 경로\n",
        "TRAIN_IMG_DIR = os.path.join(TRAIN_DIR, 'images') # 학습 이미지가 들어있는 폴더 경로\n",
        "TRAIN_MASK_DIR = os.path.join(TRAIN_DIR, 'masks') # 학습 마스크가 들어있는 폴더 경로\n",
        "TRAIN_CSV_FILE = os.path.join(TRAIN_DIR, 'traindf.csv') # 학습 이미지와 마스크 이름이 들어있는 CSV 경로"
      ],
      "id": "eaf86952-1acf-4b07-87e9-1ce6621e74c0"
    },
    {
      "cell_type": "markdown",
      "source": [
        "### 데이터 수량 확인:\n",
        "- n_train = 3930\n",
        "- n_test = 3930"
      ],
      "metadata": {
        "id": "EYMnx6-bmYtA"
      },
      "id": "EYMnx6-bmYtA"
    },
    {
      "cell_type": "code",
      "execution_count": null,
      "metadata": {
        "id": "IavNsHk9B0Zn",
        "colab": {
          "base_uri": "https://localhost:8080/"
        },
        "outputId": "f1e77aeb-24f6-44fe-ae7a-9d53b83e43ae"
      },
      "outputs": [
        {
          "output_type": "execute_result",
          "data": {
            "text/plain": [
              "3930"
            ]
          },
          "metadata": {},
          "execution_count": 5
        }
      ],
      "source": [
        "len(os.listdir(TRAIN_IMG_DIR)) #3930"
      ],
      "id": "IavNsHk9B0Zn"
    },
    {
      "cell_type": "code",
      "execution_count": null,
      "metadata": {
        "id": "ETP02sKgB5F4",
        "colab": {
          "base_uri": "https://localhost:8080/"
        },
        "outputId": "6d390761-6c06-43d4-b122-8ebd7bbf0f9b"
      },
      "outputs": [
        {
          "output_type": "execute_result",
          "data": {
            "text/plain": [
              "3930"
            ]
          },
          "metadata": {},
          "execution_count": 6
        }
      ],
      "source": [
        "len(os.listdir(TRAIN_MASK_DIR)) #3930"
      ],
      "id": "ETP02sKgB5F4"
    },
    {
      "cell_type": "markdown",
      "source": [
        "### 결과 저장 경로 설정"
      ],
      "metadata": {
        "id": "5GwfSKc5W1K0"
      },
      "id": "5GwfSKc5W1K0"
    },
    {
      "cell_type": "code",
      "source": [
        "# 시간 고유값 \n",
        "kst = timezone(timedelta(hours=9))        \n",
        "train_serial = datetime.now(tz=kst).strftime(\"%Y%m%d_%H%M%S\")\n",
        "\n",
        "# 기록 경로\n",
        "RECORDER_DIR = os.path.join(PROJECT_DIR, 'results', 'train', train_serial)\n",
        "# 현재 시간 기준 폴더 생성\n",
        "os.makedirs(RECORDER_DIR, exist_ok=True)    "
      ],
      "metadata": {
        "id": "WHoqlnqxW02M"
      },
      "id": "WHoqlnqxW02M",
      "execution_count": 5,
      "outputs": []
    },
    {
      "cell_type": "markdown",
      "metadata": {
        "id": "1f2717f1-9c63-469b-8c24-ac63cc9c2e83"
      },
      "source": [
        "#### 시드 설정"
      ],
      "id": "1f2717f1-9c63-469b-8c24-ac63cc9c2e83"
    },
    {
      "cell_type": "code",
      "execution_count": 6,
      "metadata": {
        "id": "578e57e9-2e0c-4802-a7b3-79868119de61"
      },
      "outputs": [],
      "source": [
        "RANDOM_SEED = 2022 #랜덤 시드\n",
        "\n",
        "torch.manual_seed(RANDOM_SEED)\n",
        "torch.backends.cudnn.deterministic = True\n",
        "torch.backends.cudnn.benchmark = False\n",
        "np.random.seed(RANDOM_SEED)\n",
        "random.seed(RANDOM_SEED)"
      ],
      "id": "578e57e9-2e0c-4802-a7b3-79868119de61"
    },
    {
      "cell_type": "markdown",
      "metadata": {
        "id": "21b77e5e-de69-4387-881d-7a223804556a"
      },
      "source": [
        "#### 디바이스 설정"
      ],
      "id": "21b77e5e-de69-4387-881d-7a223804556a"
    },
    {
      "cell_type": "code",
      "execution_count": 7,
      "metadata": {
        "id": "41ee20b1-2097-47f5-85bc-010f1674cd5a"
      },
      "outputs": [],
      "source": [
        "DEVICE = torch.device('cuda' if torch.cuda.is_available() else 'cpu')"
      ],
      "id": "41ee20b1-2097-47f5-85bc-010f1674cd5a"
    },
    {
      "cell_type": "markdown",
      "metadata": {
        "id": "ecaf0022-98af-4cfd-90e1-8221a31b6c74"
      },
      "source": [
        "#### 하이퍼파라미터 설정"
      ],
      "id": "ecaf0022-98af-4cfd-90e1-8221a31b6c74"
    },
    {
      "cell_type": "code",
      "execution_count": 11,
      "metadata": {
        "id": "c6b0a51c-9f25-4627-8d0e-6827aae6e448"
      },
      "outputs": [],
      "source": [
        "EPOCHS = 30\n",
        "BATCH_SIZE = 16\n",
        "LEARNING_RATE = 0.003\n",
        "EARLY_STOPPING_PATIENCE = 10\n",
        "IMG_SIZE = 512\n",
        "\n",
        "ENCODER = 'mobilenet_v2' # 활용할 인코더 모델\n",
        "WEIGHTS = 'imagenet' # Pre-train에 활용된 데이터셋"
      ],
      "id": "c6b0a51c-9f25-4627-8d0e-6827aae6e448"
    },
    {
      "cell_type": "markdown",
      "metadata": {
        "id": "02c4ca8d-3015-4cb3-bdfe-7c8cd63a7782"
      },
      "source": [
        "## Dataset 정의"
      ],
      "id": "02c4ca8d-3015-4cb3-bdfe-7c8cd63a7782"
    },
    {
      "cell_type": "code",
      "execution_count": 12,
      "metadata": {
        "id": "70b2ad0e-6461-4a55-9557-6d0c5e49678c"
      },
      "outputs": [],
      "source": [
        "class SegDataset(Dataset):\n",
        "    def __init__(self, df, augmentations, img_dir, mask_dir):\n",
        "        self.df = df # 이미지와 마스크 이름이 저장된 데이터프레임 \n",
        "        self.augmentations = augmentations # 학습 전 적용할 augmentation\n",
        "        self.img_dir = img_dir # 이미지 폴더 경로\n",
        "        self.mask_dir = mask_dir # 마스크 폴더 경로\n",
        "        \n",
        "    def __len__(self):\n",
        "        return len(self.df)\n",
        "    \n",
        "    def __getitem__(self, idx):\n",
        "        # 데이터 프레임 불러와서 이미지와 마스크 경로 설정\n",
        "        row = self.df.iloc[idx] # 데이터프레임 행 불러오기\n",
        "        image_path = os.path.join(self.img_dir,row['img'])\n",
        "        mask_path = os.path.join(self.mask_dir, row['mask'])\n",
        "        \n",
        "        # 이미지와 마스크 불러오기\n",
        "        image = cv2.imread(image_path)\n",
        "        image = cv2.cvtColor(image, cv2.COLOR_BGR2RGB)\n",
        "        mask = cv2.imread(mask_path, cv2.IMREAD_GRAYSCALE)\n",
        "        mask = np.expand_dims(mask, axis=-1)\n",
        "        \n",
        "        # Augmentation 적용하기\n",
        "        if self.augmentations:\n",
        "            data = self.augmentations(image=image, mask=mask)\n",
        "            image = data['image']\n",
        "            mask = data['mask']\n",
        "        \n",
        "        # PyTorch 인풋 모양에 맞게 이미지와 마스크 모양 변경\n",
        "        image = np.transpose(image, (2,0,1)).astype(np.float32)\n",
        "        mask = np.transpose(mask, (2,0,1)).astype(np.float32)\n",
        "        \n",
        "        # 이미지 Normalization 0~255 픽셀값 --> 0~1 픽셀값\n",
        "        image = torch.Tensor(image) / 255.0\n",
        "        mask = torch.round(torch.Tensor(mask)/255.0)\n",
        "        \n",
        "        return image, mask"
      ],
      "id": "70b2ad0e-6461-4a55-9557-6d0c5e49678c"
    },
    {
      "cell_type": "markdown",
      "metadata": {
        "id": "f87467f8-d244-43e7-8499-1594335f2f41"
      },
      "source": [
        "## 모델 정의"
      ],
      "id": "f87467f8-d244-43e7-8499-1594335f2f41"
    },
    {
      "cell_type": "code",
      "execution_count": 13,
      "metadata": {
        "id": "8eafd47a-c32f-4d79-aff6-506a81f5a083"
      },
      "outputs": [],
      "source": [
        "class SegModel(nn.Module):\n",
        "    def __init__(self):\n",
        "        super(SegModel, self).__init__()\n",
        "        \n",
        "        # Pre-train된 UNET 불러오기\n",
        "        self.backbone = smp.DeepLabV3Plus(\n",
        "            encoder_name = ENCODER, # 인코더 모델 설정\n",
        "            encoder_weights = WEIGHTS, # 사전학습 데이터셋 설정\n",
        "            in_channels = 3, # 이미지 디멘션 (3 * 512 * 512)\n",
        "            classes = 1, # 세그멘테이션 클래스 개수 \n",
        "            activation = None # logit 값 불러오기\n",
        "        )\n",
        "        \n",
        "    def forward(self, images):\n",
        "        logits = self.backbone(images)\n",
        "        \n",
        "        return logits"
      ],
      "id": "8eafd47a-c32f-4d79-aff6-506a81f5a083"
    },
    {
      "cell_type": "markdown",
      "metadata": {
        "id": "3f86cf03-108d-4541-9180-813af657008d"
      },
      "source": [
        "## Utils 정의\n",
        "#### Augmentation 함수"
      ],
      "id": "3f86cf03-108d-4541-9180-813af657008d"
    },
    {
      "cell_type": "code",
      "execution_count": 14,
      "metadata": {
        "id": "d2686af4-c4a7-4fde-bb54-1a0ce3f49e72"
      },
      "outputs": [],
      "source": [
        "def get_train_augs():\n",
        "    return A.Compose([\n",
        "        A.Resize(IMG_SIZE, IMG_SIZE), # 이미지 크기 변환\n",
        "        A.HorizontalFlip(p=0.5), # 이미지 좌우반전\n",
        "        A.VerticalFlip(p=0.5) # 이미지 상하반전\n",
        "    ])\n",
        "\n",
        "def get_valid_augs():\n",
        "    return A.Compose([\n",
        "        A.Resize(IMG_SIZE, IMG_SIZE)\n",
        "    ])"
      ],
      "id": "d2686af4-c4a7-4fde-bb54-1a0ce3f49e72"
    },
    {
      "cell_type": "markdown",
      "metadata": {
        "id": "540c43c3-e380-4325-bb10-2cd8c62e56d7"
      },
      "source": [
        "#### Train 함수"
      ],
      "id": "540c43c3-e380-4325-bb10-2cd8c62e56d7"
    },
    {
      "cell_type": "code",
      "execution_count": 15,
      "metadata": {
        "id": "e7d69233-2cc3-48c8-a5aa-b17953f6a53b"
      },
      "outputs": [],
      "source": [
        "def train_fn(dataloader, model, optimizer, loss_fn):\n",
        "    model.train()\n",
        "    \n",
        "    total_loss = 0.0\n",
        "    \n",
        "    for images,masks in tqdm(dataloader):\n",
        "        images = images.to(DEVICE)\n",
        "        masks = masks.to(DEVICE)\n",
        "        \n",
        "        optimizer.zero_grad()\n",
        "        logits = model(images)\n",
        "        loss = loss_fn(logits, masks)\n",
        "        loss.backward()\n",
        "        optimizer.step()\n",
        "        \n",
        "        total_loss += loss.item()\n",
        "        \n",
        "    return total_loss/len(dataloader)"
      ],
      "id": "e7d69233-2cc3-48c8-a5aa-b17953f6a53b"
    },
    {
      "cell_type": "markdown",
      "metadata": {
        "id": "09cbd0cb-f134-47ea-b68e-eef2b2e92ab4"
      },
      "source": [
        "#### Validation 함수"
      ],
      "id": "09cbd0cb-f134-47ea-b68e-eef2b2e92ab4"
    },
    {
      "cell_type": "code",
      "execution_count": 16,
      "metadata": {
        "id": "46c21e3f-9170-47ea-bf81-a71b01e89efd"
      },
      "outputs": [],
      "source": [
        "def valid_fn(dataloader, model, loss_fn):\n",
        "    model.eval()\n",
        "    \n",
        "    total_loss = 0.0\n",
        "    \n",
        "    with torch.no_grad():\n",
        "        for images,masks in tqdm(dataloader):\n",
        "            images = images.to(DEVICE)\n",
        "            masks = masks.to(DEVICE)\n",
        "            logits = model(images)\n",
        "            loss = loss_fn(logits, masks)\n",
        "            total_loss += loss.item()\n",
        "    return total_loss/len(dataloader)"
      ],
      "id": "46c21e3f-9170-47ea-bf81-a71b01e89efd"
    },
    {
      "cell_type": "markdown",
      "metadata": {
        "id": "c71db9f2-fdd0-4b0b-8888-fbcaaa607a58"
      },
      "source": [
        "## 모델 학습\n",
        "#### Dataset & Dataloader 설정"
      ],
      "id": "c71db9f2-fdd0-4b0b-8888-fbcaaa607a58"
    },
    {
      "cell_type": "code",
      "execution_count": 17,
      "metadata": {
        "id": "7ffdac70-018e-4280-bc23-d39eb16d64e2"
      },
      "outputs": [],
      "source": [
        "# 학습 이미지, 마스크 이름 들어있는 CSV 불러와 데이터 프레임으로 저장\n",
        "entiredf = pd.read_csv(TRAIN_CSV_FILE)\n",
        "\n",
        "# Train과 Validation 데이터셋으로 나누기\n",
        "traindf, validdf = train_test_split(entiredf, test_size=0.2)\n",
        "traindf = traindf.reset_index(drop=True)\n",
        "validdf = validdf.reset_index(drop=True)\n",
        "\n",
        "# Dataset 및 Dataloader 설정\n",
        "train_dataset = SegDataset(traindf, get_train_augs(), TRAIN_IMG_DIR, TRAIN_MASK_DIR)\n",
        "valid_dataset = SegDataset(validdf, get_valid_augs(), TRAIN_IMG_DIR, TRAIN_MASK_DIR)\n",
        "train_loader = DataLoader(train_dataset, batch_size = BATCH_SIZE, shuffle=True)\n",
        "valid_loader = DataLoader(valid_dataset, batch_size = BATCH_SIZE)"
      ],
      "id": "7ffdac70-018e-4280-bc23-d39eb16d64e2"
    },
    {
      "cell_type": "markdown",
      "metadata": {
        "id": "f6eb184c-a4be-4891-beab-2916870b26f0"
      },
      "source": [
        "#### 모델과 기타 utils 설정"
      ],
      "id": "f6eb184c-a4be-4891-beab-2916870b26f0"
    },
    {
      "cell_type": "code",
      "execution_count": 19,
      "metadata": {
        "id": "d0a25c94-b1d3-4ff6-8483-2ab9d26de630",
        "colab": {
          "base_uri": "https://localhost:8080/",
          "height": 67,
          "referenced_widgets": [
            "ab6b165ea7b1404da57a0685192f0e34",
            "2aea54abf6344095bc395cdce222d9d3",
            "e8262364d06745bea5753ca29206b8b6",
            "4c832b3de38c427a9bc556a7b8b880c8",
            "44546d5f1c6845eca1d7b0f5051f0117",
            "2a7dbadb8cf94e9aabc98e22013e3b9f",
            "9d59ace56da7491ab10ed38c0aaa4e58",
            "3224a63d6bb9444a9ba4f05ff35b3e56",
            "48c8a7d334ec4b109dfbe49f9c320c63",
            "03cb866f04a641b0aa77e90f413b1daf",
            "a410feeff772401f989effa2e9944fe7"
          ]
        },
        "outputId": "e341e28c-ad79-42fd-cf22-8d536e21e44f"
      },
      "outputs": [
        {
          "output_type": "stream",
          "name": "stderr",
          "text": [
            "Downloading: \"https://download.pytorch.org/models/mobilenet_v2-b0353104.pth\" to /root/.cache/torch/hub/checkpoints/mobilenet_v2-b0353104.pth\n"
          ]
        },
        {
          "output_type": "display_data",
          "data": {
            "text/plain": [
              "  0%|          | 0.00/13.6M [00:00<?, ?B/s]"
            ],
            "application/vnd.jupyter.widget-view+json": {
              "version_major": 2,
              "version_minor": 0,
              "model_id": "ab6b165ea7b1404da57a0685192f0e34"
            }
          },
          "metadata": {}
        }
      ],
      "source": [
        "model = SegModel().to(DEVICE) # 모델 설정\n",
        "loss_fn = DiceLoss(mode = 'binary') # 학습 loss funciton 설정\n",
        "optimizer = torch.optim.Adam(model.parameters(), lr=LEARNING_RATE) # optimizer 설정"
      ],
      "id": "d0a25c94-b1d3-4ff6-8483-2ab9d26de630"
    },
    {
      "cell_type": "code",
      "source": [
        "import gc\n",
        "import torch\n",
        "\n",
        "gc.collect()\n",
        "torch.cuda.empty_cache()"
      ],
      "metadata": {
        "id": "8aKkZxCp6Ol5"
      },
      "id": "8aKkZxCp6Ol5",
      "execution_count": 20,
      "outputs": []
    },
    {
      "cell_type": "markdown",
      "metadata": {
        "id": "a5f32e61-19d6-4165-9e09-3c5bdd7b6690"
      },
      "source": [
        "#### Epoch 단위 학습 진행"
      ],
      "id": "a5f32e61-19d6-4165-9e09-3c5bdd7b6690"
    },
    {
      "cell_type": "code",
      "execution_count": 21,
      "metadata": {
        "id": "17e06473-8ac6-4066-ad8e-505371e08dfa",
        "colab": {
          "base_uri": "https://localhost:8080/"
        },
        "outputId": "d875ee3b-2faf-4f91-e5b3-7462654c88b5"
      },
      "outputs": [
        {
          "output_type": "stream",
          "name": "stderr",
          "text": [
            "100%|██████████| 197/197 [28:15<00:00,  8.61s/it]\n",
            "100%|██████████| 50/50 [06:37<00:00,  7.95s/it]\n"
          ]
        },
        {
          "output_type": "stream",
          "name": "stdout",
          "text": [
            "saved model\n",
            "Epoch: 1, Train Loss: 0.3370804302583491 Valid Loss: 0.251255019903183\n"
          ]
        },
        {
          "output_type": "stream",
          "name": "stderr",
          "text": [
            "100%|██████████| 197/197 [03:00<00:00,  1.09it/s]\n",
            "100%|██████████| 50/50 [00:21<00:00,  2.36it/s]\n"
          ]
        },
        {
          "output_type": "stream",
          "name": "stdout",
          "text": [
            "saved model\n",
            "Epoch: 2, Train Loss: 0.23810949240844262 Valid Loss: 0.2282048261165619\n"
          ]
        },
        {
          "output_type": "stream",
          "name": "stderr",
          "text": [
            "100%|██████████| 197/197 [02:56<00:00,  1.12it/s]\n",
            "100%|██████████| 50/50 [00:21<00:00,  2.37it/s]\n"
          ]
        },
        {
          "output_type": "stream",
          "name": "stdout",
          "text": [
            "saved model\n",
            "Epoch: 3, Train Loss: 0.23491734266281128 Valid Loss: 0.22630786418914794\n"
          ]
        },
        {
          "output_type": "stream",
          "name": "stderr",
          "text": [
            "100%|██████████| 197/197 [02:55<00:00,  1.12it/s]\n",
            "100%|██████████| 50/50 [00:21<00:00,  2.34it/s]\n"
          ]
        },
        {
          "output_type": "stream",
          "name": "stdout",
          "text": [
            "saved model\n",
            "Epoch: 4, Train Loss: 0.2228816790024036 Valid Loss: 0.20814207077026367\n"
          ]
        },
        {
          "output_type": "stream",
          "name": "stderr",
          "text": [
            "100%|██████████| 197/197 [02:56<00:00,  1.11it/s]\n",
            "100%|██████████| 50/50 [00:20<00:00,  2.39it/s]\n"
          ]
        },
        {
          "output_type": "stream",
          "name": "stdout",
          "text": [
            "saved model\n",
            "Epoch: 5, Train Loss: 0.21445385665457867 Valid Loss: 0.20612239718437195\n"
          ]
        },
        {
          "output_type": "stream",
          "name": "stderr",
          "text": [
            "100%|██████████| 197/197 [02:56<00:00,  1.12it/s]\n",
            "100%|██████████| 50/50 [00:21<00:00,  2.36it/s]\n"
          ]
        },
        {
          "output_type": "stream",
          "name": "stdout",
          "text": [
            "saved model\n",
            "Epoch: 6, Train Loss: 0.20310827045876362 Valid Loss: 0.18469727277755738\n"
          ]
        },
        {
          "output_type": "stream",
          "name": "stderr",
          "text": [
            "100%|██████████| 197/197 [02:55<00:00,  1.12it/s]\n",
            "100%|██████████| 50/50 [00:21<00:00,  2.32it/s]\n",
            "100%|██████████| 197/197 [02:57<00:00,  1.11it/s]\n",
            "100%|██████████| 50/50 [00:21<00:00,  2.31it/s]\n",
            "100%|██████████| 197/197 [02:55<00:00,  1.12it/s]\n",
            "100%|██████████| 50/50 [00:21<00:00,  2.38it/s]\n",
            "100%|██████████| 197/197 [02:56<00:00,  1.12it/s]\n",
            "100%|██████████| 50/50 [00:21<00:00,  2.34it/s]\n",
            "100%|██████████| 197/197 [02:57<00:00,  1.11it/s]\n",
            "100%|██████████| 50/50 [00:21<00:00,  2.34it/s]\n",
            "100%|██████████| 197/197 [02:57<00:00,  1.11it/s]\n",
            "100%|██████████| 50/50 [00:21<00:00,  2.31it/s]\n"
          ]
        },
        {
          "output_type": "stream",
          "name": "stdout",
          "text": [
            "saved model\n",
            "Epoch: 12, Train Loss: 0.1850191990131049 Valid Loss: 0.1798352611064911\n"
          ]
        },
        {
          "output_type": "stream",
          "name": "stderr",
          "text": [
            "100%|██████████| 197/197 [02:56<00:00,  1.12it/s]\n",
            "100%|██████████| 50/50 [00:21<00:00,  2.38it/s]\n",
            "100%|██████████| 197/197 [02:55<00:00,  1.12it/s]\n",
            "100%|██████████| 50/50 [00:21<00:00,  2.34it/s]\n"
          ]
        },
        {
          "output_type": "stream",
          "name": "stdout",
          "text": [
            "saved model\n",
            "Epoch: 14, Train Loss: 0.18634545893838564 Valid Loss: 0.17752412915229798\n"
          ]
        },
        {
          "output_type": "stream",
          "name": "stderr",
          "text": [
            "100%|██████████| 197/197 [02:55<00:00,  1.12it/s]\n",
            "100%|██████████| 50/50 [00:21<00:00,  2.33it/s]\n",
            "100%|██████████| 197/197 [02:55<00:00,  1.12it/s]\n",
            "100%|██████████| 50/50 [00:20<00:00,  2.38it/s]\n",
            "100%|██████████| 197/197 [02:55<00:00,  1.12it/s]\n",
            "100%|██████████| 50/50 [00:20<00:00,  2.39it/s]\n",
            "100%|██████████| 197/197 [02:55<00:00,  1.12it/s]\n",
            "100%|██████████| 50/50 [00:20<00:00,  2.39it/s]\n"
          ]
        },
        {
          "output_type": "stream",
          "name": "stdout",
          "text": [
            "saved model\n",
            "Epoch: 18, Train Loss: 0.17404034416082548 Valid Loss: 0.17029056072235108\n"
          ]
        },
        {
          "output_type": "stream",
          "name": "stderr",
          "text": [
            "100%|██████████| 197/197 [02:55<00:00,  1.12it/s]\n",
            "100%|██████████| 50/50 [00:21<00:00,  2.35it/s]\n",
            "100%|██████████| 197/197 [02:56<00:00,  1.12it/s]\n",
            "100%|██████████| 50/50 [00:21<00:00,  2.31it/s]\n"
          ]
        },
        {
          "output_type": "stream",
          "name": "stdout",
          "text": [
            "saved model\n",
            "Epoch: 20, Train Loss: 0.16966719463997082 Valid Loss: 0.16856143832206727\n"
          ]
        },
        {
          "output_type": "stream",
          "name": "stderr",
          "text": [
            "100%|██████████| 197/197 [02:55<00:00,  1.12it/s]\n",
            "100%|██████████| 50/50 [00:21<00:00,  2.32it/s]\n"
          ]
        },
        {
          "output_type": "stream",
          "name": "stdout",
          "text": [
            "saved model\n",
            "Epoch: 21, Train Loss: 0.16698482950326754 Valid Loss: 0.16588603019714354\n"
          ]
        },
        {
          "output_type": "stream",
          "name": "stderr",
          "text": [
            "100%|██████████| 197/197 [02:55<00:00,  1.12it/s]\n",
            "100%|██████████| 50/50 [00:21<00:00,  2.36it/s]\n",
            "100%|██████████| 197/197 [02:53<00:00,  1.13it/s]\n",
            "100%|██████████| 50/50 [00:21<00:00,  2.37it/s]\n",
            "100%|██████████| 197/197 [02:53<00:00,  1.14it/s]\n",
            "100%|██████████| 50/50 [00:20<00:00,  2.39it/s]\n"
          ]
        },
        {
          "output_type": "stream",
          "name": "stdout",
          "text": [
            "saved model\n",
            "Epoch: 24, Train Loss: 0.1607253294305753 Valid Loss: 0.1626741421222687\n"
          ]
        },
        {
          "output_type": "stream",
          "name": "stderr",
          "text": [
            "100%|██████████| 197/197 [02:53<00:00,  1.14it/s]\n",
            "100%|██████████| 50/50 [00:20<00:00,  2.39it/s]\n",
            "100%|██████████| 197/197 [02:53<00:00,  1.14it/s]\n",
            "100%|██████████| 50/50 [00:20<00:00,  2.39it/s]\n",
            "100%|██████████| 197/197 [02:53<00:00,  1.14it/s]\n",
            "100%|██████████| 50/50 [00:21<00:00,  2.34it/s]\n",
            "100%|██████████| 197/197 [02:53<00:00,  1.14it/s]\n",
            "100%|██████████| 50/50 [00:20<00:00,  2.39it/s]\n"
          ]
        },
        {
          "output_type": "stream",
          "name": "stdout",
          "text": [
            "saved model\n",
            "Epoch: 28, Train Loss: 0.16743624059076842 Valid Loss: 0.15763162493705749\n"
          ]
        },
        {
          "output_type": "stream",
          "name": "stderr",
          "text": [
            "100%|██████████| 197/197 [02:53<00:00,  1.14it/s]\n",
            "100%|██████████| 50/50 [00:20<00:00,  2.40it/s]\n",
            "100%|██████████| 197/197 [02:53<00:00,  1.14it/s]\n",
            "100%|██████████| 50/50 [00:20<00:00,  2.40it/s]\n"
          ]
        }
      ],
      "source": [
        "best_loss = np.Inf\n",
        "\n",
        "for i in range(EPOCHS):\n",
        "    train_loss = train_fn(train_loader, model, optimizer, loss_fn)\n",
        "    valid_loss = valid_fn(valid_loader, model, loss_fn)\n",
        "    \n",
        "    # loss가 감소하면 모델 저장\n",
        "    if valid_loss < best_loss:\n",
        "        torch.save(model.state_dict(), os.path.join(RECORDER_DIR, \"best-model.pt\"))\n",
        "        print('saved model')\n",
        "        best_loss = valid_loss\n",
        "        print(f\"Epoch: {i+1}, Train Loss: {train_loss} Valid Loss: {valid_loss}\")"
      ],
      "id": "17e06473-8ac6-4066-ad8e-505371e08dfa"
    },
    {
      "cell_type": "markdown",
      "metadata": {
        "id": "45079578-24cd-4022-bea3-094e1f7ddc6f"
      },
      "source": [
        "## 추론"
      ],
      "id": "45079578-24cd-4022-bea3-094e1f7ddc6f"
    },
    {
      "cell_type": "markdown",
      "metadata": {
        "id": "858d5a4b-1132-4a3c-b5d8-5ba6d0790d6a"
      },
      "source": [
        "#### 마스크를 RLE 형태로 변환해주는 함수"
      ],
      "id": "858d5a4b-1132-4a3c-b5d8-5ba6d0790d6a"
    },
    {
      "cell_type": "code",
      "execution_count": 22,
      "metadata": {
        "id": "e89b6edd-3b4a-47e9-ac7d-46dbc9554d47"
      },
      "outputs": [],
      "source": [
        "def mask_to_rle(mask):\n",
        "    flatten_mask = mask.flatten()\n",
        "    if flatten_mask.max() == 0:\n",
        "        return f'0 {len(flatten_mask)}'\n",
        "    idx = np.where(flatten_mask!=0)[0]\n",
        "    steps = idx[1:]-idx[:-1]\n",
        "    new_coord = []\n",
        "    step_idx = np.where(np.array(steps)!=1)[0]\n",
        "    start = np.append(idx[0], idx[step_idx+1])\n",
        "    end = np.append(idx[step_idx], idx[-1])\n",
        "    length = end - start + 1\n",
        "    for i in range(len(start)):\n",
        "        new_coord.append(start[i])\n",
        "        new_coord.append(length[i])\n",
        "    new_coord_str = ' '.join(map(str, new_coord))\n",
        "    return new_coord_str"
      ],
      "id": "e89b6edd-3b4a-47e9-ac7d-46dbc9554d47"
    },
    {
      "cell_type": "markdown",
      "metadata": {
        "id": "29918677-0b4d-4d88-95ab-28b459961b7c"
      },
      "source": [
        "#### Test 데이터셋 불러오기"
      ],
      "id": "29918677-0b4d-4d88-95ab-28b459961b7c"
    },
    {
      "cell_type": "code",
      "execution_count": 23,
      "metadata": {
        "id": "2d381dfa-582a-440a-855a-a7ba5896f71c"
      },
      "outputs": [],
      "source": [
        "class TestDataset(Dataset):\n",
        "    def __init__(self, df, img_dir):\n",
        "        self.df = df\n",
        "        self.img_dir = img_dir\n",
        "        \n",
        "    def __len__(self):\n",
        "        return len(self.df)\n",
        "    \n",
        "    def __getitem__(self, idx):\n",
        "        row = self.df.iloc[idx]\n",
        "        imname = row['img']\n",
        "        image_path = os.path.join(self.img_dir,imname)\n",
        "        \n",
        "        image = cv2.imread(image_path)\n",
        "        image = cv2.cvtColor(image, cv2.COLOR_BGR2RGB)\n",
        "        image = np.transpose(image, (2,0,1)).astype(np.float32)\n",
        "        image = torch.Tensor(image) / 255.0\n",
        "        \n",
        "        return image,imname"
      ],
      "id": "2d381dfa-582a-440a-855a-a7ba5896f71c"
    },
    {
      "cell_type": "markdown",
      "metadata": {
        "id": "c238286a-a762-4f01-b6d4-1c4b30d6d297"
      },
      "source": [
        "#### 경로 및 기타 인자 설정"
      ],
      "id": "c238286a-a762-4f01-b6d4-1c4b30d6d297"
    },
    {
      "cell_type": "code",
      "execution_count": 24,
      "metadata": {
        "id": "fd2f468c-3066-4bdd-8cd8-6db5a1807246"
      },
      "outputs": [],
      "source": [
        "TEST_DIR = os.path.join(DATA_DIR, 'test') # 테스트 데이터가 들어있는 폴더 경로\n",
        "TEST_IMG_DIR = os.path.join(TEST_DIR, 'images') # 테스트 이미지가 들어있는 폴더 경로\n",
        "TEST_CSV_FILE = os.path.join(TEST_DIR, 'testdf.csv') # 테스트 이미지 이름이 들어있는 CSV 경로"
      ],
      "id": "fd2f468c-3066-4bdd-8cd8-6db5a1807246"
    },
    {
      "cell_type": "markdown",
      "metadata": {
        "id": "4a6f1005-184b-43b8-b530-e87c58a3cf6b"
      },
      "source": [
        "#### 테스트 Dataset, DataLoader 설정"
      ],
      "id": "4a6f1005-184b-43b8-b530-e87c58a3cf6b"
    },
    {
      "cell_type": "code",
      "execution_count": 25,
      "metadata": {
        "id": "67e19096-8245-4d01-bab6-a9270cfcbc72"
      },
      "outputs": [],
      "source": [
        "testdf = pd.read_csv(TEST_CSV_FILE)\n",
        "test_dataset = TestDataset(testdf, TEST_IMG_DIR)\n",
        "test_loader = DataLoader(dataset=test_dataset, batch_size=1,shuffle=False)"
      ],
      "id": "67e19096-8245-4d01-bab6-a9270cfcbc72"
    },
    {
      "cell_type": "markdown",
      "metadata": {
        "id": "ce62d43b-7c55-4036-b36d-55e1f2a835c4"
      },
      "source": [
        "#### 최고 성능 모델 불러오기"
      ],
      "id": "ce62d43b-7c55-4036-b36d-55e1f2a835c4"
    },
    {
      "cell_type": "code",
      "execution_count": 26,
      "metadata": {
        "id": "c016fb2d-2f96-4a36-9832-76f51e64cc18",
        "colab": {
          "base_uri": "https://localhost:8080/"
        },
        "outputId": "95294a13-dc2c-4cff-fff2-f2b113b4abbc"
      },
      "outputs": [
        {
          "output_type": "execute_result",
          "data": {
            "text/plain": [
              "<All keys matched successfully>"
            ]
          },
          "metadata": {},
          "execution_count": 26
        }
      ],
      "source": [
        "model.load_state_dict(torch.load(os.path.join(RECORDER_DIR, 'best-model.pt')))"
      ],
      "id": "c016fb2d-2f96-4a36-9832-76f51e64cc18"
    },
    {
      "cell_type": "markdown",
      "metadata": {
        "id": "cc8ec446-d0ce-4568-99e9-40c9b08486a9"
      },
      "source": [
        "#### 추론 진행"
      ],
      "id": "cc8ec446-d0ce-4568-99e9-40c9b08486a9"
    },
    {
      "cell_type": "code",
      "execution_count": 27,
      "metadata": {
        "id": "e3070872-23ec-4489-83b3-27e139173639",
        "colab": {
          "base_uri": "https://localhost:8080/"
        },
        "outputId": "138868c0-c609-40a0-f378-a7d4aa6acf0e"
      },
      "outputs": [
        {
          "output_type": "stream",
          "name": "stderr",
          "text": [
            "1303it [06:45,  3.22it/s]\n"
          ]
        }
      ],
      "source": [
        "file_list = [] # 이미지 이름 저장할 리스트\n",
        "pred_list = [] # 마스크 저장할 리스트\n",
        "class_list = [] # 클래스 이름 저장할 리스트 ('building')\n",
        "\n",
        "model.eval()\n",
        "with torch.no_grad():\n",
        "    for batch_index, (image,imname) in tqdm(enumerate(test_loader)):\n",
        "        image = image.to(DEVICE)\n",
        "        logit_mask = model(image)\n",
        "        pred_mask = torch.sigmoid(logit_mask) # logit 값을 probability score로 변경\n",
        "        pred_mask = (pred_mask > 0.5) * 1.0 # 0.5 이상 확률 가진 픽셀값 1로 변환\n",
        "        pred_rle = mask_to_rle(pred_mask.detach().cpu().squeeze(0)) # 마스크를 RLE 형태로 변경\n",
        "        pred_list.append(pred_rle)\n",
        "        file_list.append(imname[0])\n",
        "        class_list.append(\"building\")\n",
        "        "
      ],
      "id": "e3070872-23ec-4489-83b3-27e139173639"
    },
    {
      "cell_type": "markdown",
      "metadata": {
        "id": "d00d3a0e-2954-4bc6-94b6-74379222ac45"
      },
      "source": [
        "#### 예측 결과 파일 만들기"
      ],
      "id": "d00d3a0e-2954-4bc6-94b6-74379222ac45"
    },
    {
      "cell_type": "code",
      "execution_count": 28,
      "metadata": {
        "id": "0d3687d6-1280-4ea9-b386-c3a2b668c558"
      },
      "outputs": [],
      "source": [
        "# 예측 결과 데이터프레임 만들기\n",
        "results = pd.DataFrame({'img_id':file_list,'class':class_list,'prediction':pred_list})\n",
        "\n",
        "# sample_submission.csv와 같은 형태로 변형\n",
        "sampledf = pd.read_csv(os.path.join(TEST_DIR, 'sample_submission.csv'))\n",
        "sorter = list(sampledf['img_id'])\n",
        "results = results.set_index('img_id')\n",
        "results = results.loc[sorter].reset_index()\n",
        "                       \n",
        "# 결과 저장\n",
        "results.to_csv(os.path.join(RECORDER_DIR, 'prediction2.csv'), index=False)"
      ],
      "id": "0d3687d6-1280-4ea9-b386-c3a2b668c558"
    },
    {
      "cell_type": "code",
      "source": [],
      "metadata": {
        "id": "F-hUYTAr2Y6n"
      },
      "id": "F-hUYTAr2Y6n",
      "execution_count": null,
      "outputs": []
    }
  ],
  "metadata": {
    "accelerator": "GPU",
    "colab": {
      "provenance": []
    },
    "gpuClass": "standard",
    "kernelspec": {
      "display_name": "Python 3 (ipykernel)",
      "language": "python",
      "name": "python3"
    },
    "language_info": {
      "codemirror_mode": {
        "name": "ipython",
        "version": 3
      },
      "file_extension": ".py",
      "mimetype": "text/x-python",
      "name": "python",
      "nbconvert_exporter": "python",
      "pygments_lexer": "ipython3",
      "version": "3.8.5"
    },
    "widgets": {
      "application/vnd.jupyter.widget-state+json": {
        "ab6b165ea7b1404da57a0685192f0e34": {
          "model_module": "@jupyter-widgets/controls",
          "model_name": "HBoxModel",
          "model_module_version": "1.5.0",
          "state": {
            "_dom_classes": [],
            "_model_module": "@jupyter-widgets/controls",
            "_model_module_version": "1.5.0",
            "_model_name": "HBoxModel",
            "_view_count": null,
            "_view_module": "@jupyter-widgets/controls",
            "_view_module_version": "1.5.0",
            "_view_name": "HBoxView",
            "box_style": "",
            "children": [
              "IPY_MODEL_2aea54abf6344095bc395cdce222d9d3",
              "IPY_MODEL_e8262364d06745bea5753ca29206b8b6",
              "IPY_MODEL_4c832b3de38c427a9bc556a7b8b880c8"
            ],
            "layout": "IPY_MODEL_44546d5f1c6845eca1d7b0f5051f0117"
          }
        },
        "2aea54abf6344095bc395cdce222d9d3": {
          "model_module": "@jupyter-widgets/controls",
          "model_name": "HTMLModel",
          "model_module_version": "1.5.0",
          "state": {
            "_dom_classes": [],
            "_model_module": "@jupyter-widgets/controls",
            "_model_module_version": "1.5.0",
            "_model_name": "HTMLModel",
            "_view_count": null,
            "_view_module": "@jupyter-widgets/controls",
            "_view_module_version": "1.5.0",
            "_view_name": "HTMLView",
            "description": "",
            "description_tooltip": null,
            "layout": "IPY_MODEL_2a7dbadb8cf94e9aabc98e22013e3b9f",
            "placeholder": "​",
            "style": "IPY_MODEL_9d59ace56da7491ab10ed38c0aaa4e58",
            "value": "100%"
          }
        },
        "e8262364d06745bea5753ca29206b8b6": {
          "model_module": "@jupyter-widgets/controls",
          "model_name": "FloatProgressModel",
          "model_module_version": "1.5.0",
          "state": {
            "_dom_classes": [],
            "_model_module": "@jupyter-widgets/controls",
            "_model_module_version": "1.5.0",
            "_model_name": "FloatProgressModel",
            "_view_count": null,
            "_view_module": "@jupyter-widgets/controls",
            "_view_module_version": "1.5.0",
            "_view_name": "ProgressView",
            "bar_style": "success",
            "description": "",
            "description_tooltip": null,
            "layout": "IPY_MODEL_3224a63d6bb9444a9ba4f05ff35b3e56",
            "max": 14212972,
            "min": 0,
            "orientation": "horizontal",
            "style": "IPY_MODEL_48c8a7d334ec4b109dfbe49f9c320c63",
            "value": 14212972
          }
        },
        "4c832b3de38c427a9bc556a7b8b880c8": {
          "model_module": "@jupyter-widgets/controls",
          "model_name": "HTMLModel",
          "model_module_version": "1.5.0",
          "state": {
            "_dom_classes": [],
            "_model_module": "@jupyter-widgets/controls",
            "_model_module_version": "1.5.0",
            "_model_name": "HTMLModel",
            "_view_count": null,
            "_view_module": "@jupyter-widgets/controls",
            "_view_module_version": "1.5.0",
            "_view_name": "HTMLView",
            "description": "",
            "description_tooltip": null,
            "layout": "IPY_MODEL_03cb866f04a641b0aa77e90f413b1daf",
            "placeholder": "​",
            "style": "IPY_MODEL_a410feeff772401f989effa2e9944fe7",
            "value": " 13.6M/13.6M [00:00&lt;00:00, 25.3MB/s]"
          }
        },
        "44546d5f1c6845eca1d7b0f5051f0117": {
          "model_module": "@jupyter-widgets/base",
          "model_name": "LayoutModel",
          "model_module_version": "1.2.0",
          "state": {
            "_model_module": "@jupyter-widgets/base",
            "_model_module_version": "1.2.0",
            "_model_name": "LayoutModel",
            "_view_count": null,
            "_view_module": "@jupyter-widgets/base",
            "_view_module_version": "1.2.0",
            "_view_name": "LayoutView",
            "align_content": null,
            "align_items": null,
            "align_self": null,
            "border": null,
            "bottom": null,
            "display": null,
            "flex": null,
            "flex_flow": null,
            "grid_area": null,
            "grid_auto_columns": null,
            "grid_auto_flow": null,
            "grid_auto_rows": null,
            "grid_column": null,
            "grid_gap": null,
            "grid_row": null,
            "grid_template_areas": null,
            "grid_template_columns": null,
            "grid_template_rows": null,
            "height": null,
            "justify_content": null,
            "justify_items": null,
            "left": null,
            "margin": null,
            "max_height": null,
            "max_width": null,
            "min_height": null,
            "min_width": null,
            "object_fit": null,
            "object_position": null,
            "order": null,
            "overflow": null,
            "overflow_x": null,
            "overflow_y": null,
            "padding": null,
            "right": null,
            "top": null,
            "visibility": null,
            "width": null
          }
        },
        "2a7dbadb8cf94e9aabc98e22013e3b9f": {
          "model_module": "@jupyter-widgets/base",
          "model_name": "LayoutModel",
          "model_module_version": "1.2.0",
          "state": {
            "_model_module": "@jupyter-widgets/base",
            "_model_module_version": "1.2.0",
            "_model_name": "LayoutModel",
            "_view_count": null,
            "_view_module": "@jupyter-widgets/base",
            "_view_module_version": "1.2.0",
            "_view_name": "LayoutView",
            "align_content": null,
            "align_items": null,
            "align_self": null,
            "border": null,
            "bottom": null,
            "display": null,
            "flex": null,
            "flex_flow": null,
            "grid_area": null,
            "grid_auto_columns": null,
            "grid_auto_flow": null,
            "grid_auto_rows": null,
            "grid_column": null,
            "grid_gap": null,
            "grid_row": null,
            "grid_template_areas": null,
            "grid_template_columns": null,
            "grid_template_rows": null,
            "height": null,
            "justify_content": null,
            "justify_items": null,
            "left": null,
            "margin": null,
            "max_height": null,
            "max_width": null,
            "min_height": null,
            "min_width": null,
            "object_fit": null,
            "object_position": null,
            "order": null,
            "overflow": null,
            "overflow_x": null,
            "overflow_y": null,
            "padding": null,
            "right": null,
            "top": null,
            "visibility": null,
            "width": null
          }
        },
        "9d59ace56da7491ab10ed38c0aaa4e58": {
          "model_module": "@jupyter-widgets/controls",
          "model_name": "DescriptionStyleModel",
          "model_module_version": "1.5.0",
          "state": {
            "_model_module": "@jupyter-widgets/controls",
            "_model_module_version": "1.5.0",
            "_model_name": "DescriptionStyleModel",
            "_view_count": null,
            "_view_module": "@jupyter-widgets/base",
            "_view_module_version": "1.2.0",
            "_view_name": "StyleView",
            "description_width": ""
          }
        },
        "3224a63d6bb9444a9ba4f05ff35b3e56": {
          "model_module": "@jupyter-widgets/base",
          "model_name": "LayoutModel",
          "model_module_version": "1.2.0",
          "state": {
            "_model_module": "@jupyter-widgets/base",
            "_model_module_version": "1.2.0",
            "_model_name": "LayoutModel",
            "_view_count": null,
            "_view_module": "@jupyter-widgets/base",
            "_view_module_version": "1.2.0",
            "_view_name": "LayoutView",
            "align_content": null,
            "align_items": null,
            "align_self": null,
            "border": null,
            "bottom": null,
            "display": null,
            "flex": null,
            "flex_flow": null,
            "grid_area": null,
            "grid_auto_columns": null,
            "grid_auto_flow": null,
            "grid_auto_rows": null,
            "grid_column": null,
            "grid_gap": null,
            "grid_row": null,
            "grid_template_areas": null,
            "grid_template_columns": null,
            "grid_template_rows": null,
            "height": null,
            "justify_content": null,
            "justify_items": null,
            "left": null,
            "margin": null,
            "max_height": null,
            "max_width": null,
            "min_height": null,
            "min_width": null,
            "object_fit": null,
            "object_position": null,
            "order": null,
            "overflow": null,
            "overflow_x": null,
            "overflow_y": null,
            "padding": null,
            "right": null,
            "top": null,
            "visibility": null,
            "width": null
          }
        },
        "48c8a7d334ec4b109dfbe49f9c320c63": {
          "model_module": "@jupyter-widgets/controls",
          "model_name": "ProgressStyleModel",
          "model_module_version": "1.5.0",
          "state": {
            "_model_module": "@jupyter-widgets/controls",
            "_model_module_version": "1.5.0",
            "_model_name": "ProgressStyleModel",
            "_view_count": null,
            "_view_module": "@jupyter-widgets/base",
            "_view_module_version": "1.2.0",
            "_view_name": "StyleView",
            "bar_color": null,
            "description_width": ""
          }
        },
        "03cb866f04a641b0aa77e90f413b1daf": {
          "model_module": "@jupyter-widgets/base",
          "model_name": "LayoutModel",
          "model_module_version": "1.2.0",
          "state": {
            "_model_module": "@jupyter-widgets/base",
            "_model_module_version": "1.2.0",
            "_model_name": "LayoutModel",
            "_view_count": null,
            "_view_module": "@jupyter-widgets/base",
            "_view_module_version": "1.2.0",
            "_view_name": "LayoutView",
            "align_content": null,
            "align_items": null,
            "align_self": null,
            "border": null,
            "bottom": null,
            "display": null,
            "flex": null,
            "flex_flow": null,
            "grid_area": null,
            "grid_auto_columns": null,
            "grid_auto_flow": null,
            "grid_auto_rows": null,
            "grid_column": null,
            "grid_gap": null,
            "grid_row": null,
            "grid_template_areas": null,
            "grid_template_columns": null,
            "grid_template_rows": null,
            "height": null,
            "justify_content": null,
            "justify_items": null,
            "left": null,
            "margin": null,
            "max_height": null,
            "max_width": null,
            "min_height": null,
            "min_width": null,
            "object_fit": null,
            "object_position": null,
            "order": null,
            "overflow": null,
            "overflow_x": null,
            "overflow_y": null,
            "padding": null,
            "right": null,
            "top": null,
            "visibility": null,
            "width": null
          }
        },
        "a410feeff772401f989effa2e9944fe7": {
          "model_module": "@jupyter-widgets/controls",
          "model_name": "DescriptionStyleModel",
          "model_module_version": "1.5.0",
          "state": {
            "_model_module": "@jupyter-widgets/controls",
            "_model_module_version": "1.5.0",
            "_model_name": "DescriptionStyleModel",
            "_view_count": null,
            "_view_module": "@jupyter-widgets/base",
            "_view_module_version": "1.2.0",
            "_view_name": "StyleView",
            "description_width": ""
          }
        }
      }
    }
  },
  "nbformat": 4,
  "nbformat_minor": 5
}